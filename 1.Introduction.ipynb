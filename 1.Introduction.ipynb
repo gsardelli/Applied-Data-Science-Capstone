{
    "cells": [
        {
            "cell_type": "markdown",
            "metadata": {
                "collapsed": true
            },
            "source": "# Introduction"
        },
        {
            "cell_type": "markdown",
            "metadata": {},
            "source": "The Swiss territory is a heterogeneous territory and each area has its own characteristics and specificities. The differences are due to geographical and historical-cultural factors. Young who come to university often have to choose in which city have to move order to build their future. It is very important that the professional figure with whom they will enter the world of work one day is valid, for this reason they must carefully choose where to complete their studies. It's a pretty hard task. What we will do is to give support to these young in the choice by analyzing the capitals of the different swiss cantons to understand which set of cities suits them best. In the analysis we will use Foursquare through which we can explore the cities and extract 100 of the top locations. For each location we will consider the own category and we will try to understand how the locations are distributed on the Swiss territory according to their category to learn some hidden patterns."
        }
    ],
    "metadata": {
        "kernelspec": {
            "display_name": "Python 3.6",
            "language": "python",
            "name": "python3"
        },
        "language_info": {
            "codemirror_mode": {
                "name": "ipython",
                "version": 3
            },
            "file_extension": ".py",
            "mimetype": "text/x-python",
            "name": "python",
            "nbconvert_exporter": "python",
            "pygments_lexer": "ipython3",
            "version": "3.6.9"
        }
    },
    "nbformat": 4,
    "nbformat_minor": 1
}