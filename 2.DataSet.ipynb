{
    "cells": [
        {
            "cell_type": "markdown",
            "metadata": {
                "collapsed": true
            },
            "source": "# DataSet"
        },
        {
            "cell_type": "markdown",
            "metadata": {},
            "source": "We will start from the dataset of the capitals of the world available on the simplemaps website and we will only consider Swiss cities. \nA future job could be to extend the selection to foreign cities to support more enterprising young people who do not exclude the possibility of moving outside the homeland.\nThe dataset under consideration is as follows:"
        },
        {
            "cell_type": "code",
            "execution_count": 4,
            "metadata": {},
            "outputs": [
                {
                    "name": "stdout",
                    "output_type": "stream",
                    "text": "libs imported!\n\ndf_capitals shape: (15493, 11)\n\n"
                },
                {
                    "data": {
                        "text/html": "<div>\n<style scoped>\n    .dataframe tbody tr th:only-of-type {\n        vertical-align: middle;\n    }\n\n    .dataframe tbody tr th {\n        vertical-align: top;\n    }\n\n    .dataframe thead th {\n        text-align: right;\n    }\n</style>\n<table border=\"1\" class=\"dataframe\">\n  <thead>\n    <tr style=\"text-align: right;\">\n      <th></th>\n      <th>city</th>\n      <th>city_ascii</th>\n      <th>lat</th>\n      <th>lng</th>\n      <th>country</th>\n      <th>iso2</th>\n      <th>iso3</th>\n      <th>admin_name</th>\n      <th>capital</th>\n      <th>population</th>\n      <th>id</th>\n    </tr>\n  </thead>\n  <tbody>\n    <tr>\n      <th>828</th>\n      <td>Kandah\u0101r</td>\n      <td>Kandahar</td>\n      <td>31.6100</td>\n      <td>65.6949</td>\n      <td>Afghanistan</td>\n      <td>AF</td>\n      <td>AFG</td>\n      <td>Kandah\u0101r</td>\n      <td>admin</td>\n      <td>715542.0</td>\n      <td>1004003059</td>\n    </tr>\n    <tr>\n      <th>4923</th>\n      <td>Qal\u0101t</td>\n      <td>Qalat</td>\n      <td>32.1123</td>\n      <td>66.8868</td>\n      <td>Afghanistan</td>\n      <td>AF</td>\n      <td>AFG</td>\n      <td>Z\u0101bul</td>\n      <td>admin</td>\n      <td>12191.0</td>\n      <td>1004016690</td>\n    </tr>\n    <tr>\n      <th>6506</th>\n      <td>Sar-e Pul</td>\n      <td>Sar-e Pul</td>\n      <td>36.2154</td>\n      <td>65.9325</td>\n      <td>Afghanistan</td>\n      <td>AF</td>\n      <td>AFG</td>\n      <td>Sar-e Pul</td>\n      <td>admin</td>\n      <td>NaN</td>\n      <td>1004047427</td>\n    </tr>\n    <tr>\n      <th>3813</th>\n      <td>Pul-e Khumr\u012b</td>\n      <td>Pul-e Khumri</td>\n      <td>35.9511</td>\n      <td>68.7011</td>\n      <td>Afghanistan</td>\n      <td>AF</td>\n      <td>AFG</td>\n      <td>Baghl\u0101n</td>\n      <td>admin</td>\n      <td>56369.0</td>\n      <td>1004123527</td>\n    </tr>\n    <tr>\n      <th>5141</th>\n      <td>Ma\u1e29m\u016bd-e R\u0101q\u012b</td>\n      <td>Mahmud-e Raqi</td>\n      <td>35.0167</td>\n      <td>69.3333</td>\n      <td>Afghanistan</td>\n      <td>AF</td>\n      <td>AFG</td>\n      <td>K\u0101p\u012bs\u0101</td>\n      <td>admin</td>\n      <td>7407.0</td>\n      <td>1004151943</td>\n    </tr>\n    <tr>\n      <th>2694</th>\n      <td>Ghazn\u012b</td>\n      <td>Ghazni</td>\n      <td>33.5633</td>\n      <td>68.4178</td>\n      <td>Afghanistan</td>\n      <td>AF</td>\n      <td>AFG</td>\n      <td>Ghazn\u012b</td>\n      <td>admin</td>\n      <td>141000.0</td>\n      <td>1004167490</td>\n    </tr>\n    <tr>\n      <th>6423</th>\n      <td>Pul-e \u2018Alam</td>\n      <td>Pul-e `Alam</td>\n      <td>33.9953</td>\n      <td>69.0227</td>\n      <td>Afghanistan</td>\n      <td>AF</td>\n      <td>AFG</td>\n      <td>L\u014dgar</td>\n      <td>admin</td>\n      <td>NaN</td>\n      <td>1004180853</td>\n    </tr>\n    <tr>\n      <th>1731</th>\n      <td>Kunduz</td>\n      <td>Kunduz</td>\n      <td>36.7280</td>\n      <td>68.8725</td>\n      <td>Afghanistan</td>\n      <td>AF</td>\n      <td>AFG</td>\n      <td>Kunduz</td>\n      <td>admin</td>\n      <td>259809.0</td>\n      <td>1004227517</td>\n    </tr>\n    <tr>\n      <th>1090</th>\n      <td>Her\u0101t</td>\n      <td>Herat</td>\n      <td>34.3300</td>\n      <td>62.1700</td>\n      <td>Afghanistan</td>\n      <td>AF</td>\n      <td>AFG</td>\n      <td>Her\u0101t</td>\n      <td>admin</td>\n      <td>481009.0</td>\n      <td>1004237782</td>\n    </tr>\n    <tr>\n      <th>3945</th>\n      <td>Asad\u0101b\u0101d</td>\n      <td>Asadabad</td>\n      <td>34.8660</td>\n      <td>71.1500</td>\n      <td>Afghanistan</td>\n      <td>AF</td>\n      <td>AFG</td>\n      <td>Kuna\u1e5f</td>\n      <td>admin</td>\n      <td>48400.0</td>\n      <td>1004251962</td>\n    </tr>\n  </tbody>\n</table>\n</div>",
                        "text/plain": "               city     city_ascii      lat      lng      country iso2 iso3  \\\n828        Kandah\u0101r       Kandahar  31.6100  65.6949  Afghanistan   AF  AFG   \n4923          Qal\u0101t          Qalat  32.1123  66.8868  Afghanistan   AF  AFG   \n6506      Sar-e Pul      Sar-e Pul  36.2154  65.9325  Afghanistan   AF  AFG   \n3813   Pul-e Khumr\u012b   Pul-e Khumri  35.9511  68.7011  Afghanistan   AF  AFG   \n5141  Ma\u1e29m\u016bd-e R\u0101q\u012b  Mahmud-e Raqi  35.0167  69.3333  Afghanistan   AF  AFG   \n2694         Ghazn\u012b         Ghazni  33.5633  68.4178  Afghanistan   AF  AFG   \n6423    Pul-e \u2018Alam    Pul-e `Alam  33.9953  69.0227  Afghanistan   AF  AFG   \n1731         Kunduz         Kunduz  36.7280  68.8725  Afghanistan   AF  AFG   \n1090          Her\u0101t          Herat  34.3300  62.1700  Afghanistan   AF  AFG   \n3945       Asad\u0101b\u0101d       Asadabad  34.8660  71.1500  Afghanistan   AF  AFG   \n\n     admin_name capital  population          id  \n828    Kandah\u0101r   admin    715542.0  1004003059  \n4923      Z\u0101bul   admin     12191.0  1004016690  \n6506  Sar-e Pul   admin         NaN  1004047427  \n3813    Baghl\u0101n   admin     56369.0  1004123527  \n5141     K\u0101p\u012bs\u0101   admin      7407.0  1004151943  \n2694     Ghazn\u012b   admin    141000.0  1004167490  \n6423      L\u014dgar   admin         NaN  1004180853  \n1731     Kunduz   admin    259809.0  1004227517  \n1090      Her\u0101t   admin    481009.0  1004237782  \n3945      Kuna\u1e5f   admin     48400.0  1004251962  "
                    },
                    "execution_count": 4,
                    "metadata": {},
                    "output_type": "execute_result"
                }
            ],
            "source": "import pandas as pd # library for data analsysis\n\nimport urllib.request\n\nfrom io import BytesIO\nfrom zipfile import ZipFile\nfrom urllib.request import urlopen\n\nprint('libs imported!')\n\n#######################################################################################################\n\nurl = 'https://simplemaps.com/static/data/world-cities/basic/simplemaps_worldcities_basicv1.6.zip'\n\nhdr = {'User-Agent': 'Mozilla/5.0 (X11; Linux x86_64) AppleWebKit/537.11 (KHTML, like Gecko) Chrome/23.0.1271.64 Safari/537.11',\n       'Accept': 'text/html,application/xhtml+xml,application/xml;q=0.9,*/*;q=0.8',\n       'Accept-Charset': 'ISO-8859-1,utf-8;q=0.7,*;q=0.3',\n       'Accept-Encoding': 'none',\n       'Accept-Language': 'en-US,en;q=0.8',\n       'Connection': 'keep-alive'}\n\nextensions = ('.csv')\n\nrequest=urllib.request.Request(url, None, headers=hdr) #The assembled request\n\nzipfile = ZipFile(BytesIO(urlopen(request).read()))\nfiles_csv = [zipfile.open(file, 'r') for file in zipfile.namelist() if file.endswith(extensions)]\ndf_capitals = pd.concat([pd.read_csv(file_csv) for file_csv in files_csv])\nzipfile.close()\n\nprint('\\ndf_capitals shape: {}\\n'.format(df_capitals.shape))\ndf_capitals.sort_values(by='id').head(10)"
        },
        {
            "cell_type": "markdown",
            "metadata": {},
            "source": "There are 11 columns and 15,493 rows. Let's look at the columns:\n   - city: city name\n   - city_ascii: city name in ascii encoding\n   - lat: city latitude\n   - lng: city longitude\n   - country: the name of city's country\n   - iso2: iso code of the country (two characters)\n   - iso3: iso code of the country (three characters)\n   - admi_name: The name of the highest level administration region of the city\n   - capital: Blank string if not a capital, otherwise: \n       - primary - country's capital \n       - admin - first-level admin capital \n       - minor - lower-level admin capital\n   - population: an estimate of the city's urban population\n   - id: A 10-digit unique id of the city"
        },
        {
            "cell_type": "code",
            "execution_count": null,
            "metadata": {},
            "outputs": [],
            "source": ""
        }
    ],
    "metadata": {
        "kernelspec": {
            "display_name": "Python 3.6",
            "language": "python",
            "name": "python3"
        },
        "language_info": {
            "codemirror_mode": {
                "name": "ipython",
                "version": 3
            },
            "file_extension": ".py",
            "mimetype": "text/x-python",
            "name": "python",
            "nbconvert_exporter": "python",
            "pygments_lexer": "ipython3",
            "version": "3.6.9"
        }
    },
    "nbformat": 4,
    "nbformat_minor": 1
}